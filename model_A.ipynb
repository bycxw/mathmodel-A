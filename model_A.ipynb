{
 "cells": [
  {
   "cell_type": "code",
   "execution_count": 1,
   "metadata": {},
   "outputs": [],
   "source": [
    "from sklearn.metrics import mean_absolute_error,mean_squared_error\n",
    "from sklearn.model_selection import KFold,train_test_split\n",
    "import matplotlib.pyplot as plt\n",
    "import seaborn as sns\n",
    "import lightgbm as lgb\n",
    "import pandas as pd \n",
    "import numpy as np\n",
    "from math import pi\n",
    "from featexp import *\n",
    "import gc\n",
    "import os\n",
    "path_train='D:/data_mywork/math_modeling/train_set/'\n",
    "path_test='D:/data_mywork/math_modeling/test_set/'\n",
    "path_dir=os.listdir(path_train)\n",
    "path_dir1=os.listdir(path_test)"
   ]
  },
  {
   "cell_type": "code",
   "execution_count": 2,
   "metadata": {
    "scrolled": true
   },
   "outputs": [],
   "source": [
    "def feat(data):\n",
    "    feat=['Frequency Band','RS Power','Cell Clutter Index','Clutter Index']\n",
    "    train_x=data.loc[:,feat]\n",
    "    train_x['d']=np.sqrt((data['Cell X']-data['X'])**2+(data['Cell Y']-data['Y'])**2)\n",
    "    train_x['Hb']=data['Cell Altitude']+data['Cell Building Height']+data['Altitude']\n",
    "    train_x['Hue']=data['Altitude']+data['Building Height']\n",
    "    train_x['thetaM']=np.radians(data['Mechanical Downtilt'])\n",
    "    train_x['thetaE']=np.radians(data['Electrical Downtilt'])\n",
    "    train_x['delta_Hv']=train_x['Hb']-train_x['d']*np.tan(train_x['thetaM']+train_x['thetaE'])\n",
    "    train_x['theta_uc']=np.arctan(abs(train_x['Hb']-train_x['Hue'])/train_x['d'])\n",
    "    #train_x['log_freq']=np.log10(data['Frequency Band'])\n",
    "    train_x['log_Hb']=np.log10(train_x['Hb']+1)\n",
    "    train_x['log_Hue']=np.log10(train_x['Hue']+1)\n",
    "    train_x['log_d']=np.log10(train_x['d']+1)\n",
    "    train_x['dmulHue_log']=train_x['log_Hue']*train_x['log_d']\n",
    "    train_x['Azimuth_rad']=np.radians(data['Azimuth'])\n",
    "    train_x['dX']=data['X']-data['Cell X']\n",
    "    train_x['dY']=data['Y']-data['Cell Y']\n",
    "    train_x['theta_XY']=np.arctan2(train_x['dX'],train_x['dY'])\n",
    "    train_x['theta_XY'].loc[train_x['dY']<0]=train_x['theta_XY'].loc[train_x['dY']<0]+pi\n",
    "    train_x['theta_XY'].loc[(train_x['dY']>=0)&(train_x['dX']<0)]=train_x['theta_XY'].loc[(train_x['dY']>=0)&(train_x['dX']<0)]+2*pi\n",
    "    train_x['theta_XY_A']=train_x['theta_XY']-train_x['Azimuth_rad']\n",
    "    train_x=train_x.drop(['Azimuth_rad','theta_XY','dX','dY'],axis=1)\n",
    "    return train_x\n",
    "\n"
   ]
  },
  {
   "cell_type": "code",
   "execution_count": 3,
   "metadata": {
    "scrolled": true
   },
   "outputs": [],
   "source": [
    "#读取训练数据\n",
    "train_data=[]\n",
    "for f in path_dir:\n",
    "    train_data.append(pd.read_csv(path_train+f))\n",
    "train_data=pd.concat(train_data).reset_index(drop=True) \n",
    "#读取测试数据\n",
    "test_data=[]\n",
    "for f in path_dir1:\n",
    "    test_data.append(pd.read_csv(path_test+f))\n",
    "test_data=pd.concat(test_data).reset_index(drop=True) \n",
    "\n",
    "CellIndex=test_data['Cell Index']"
   ]
  },
  {
   "cell_type": "code",
   "execution_count": 4,
   "metadata": {},
   "outputs": [
    {
     "name": "stderr",
     "output_type": "stream",
     "text": [
      "C:\\Users\\lenovo\\Anaconda3\\lib\\site-packages\\pandas\\core\\indexing.py:189: SettingWithCopyWarning: \n",
      "A value is trying to be set on a copy of a slice from a DataFrame\n",
      "\n",
      "See the caveats in the documentation: http://pandas.pydata.org/pandas-docs/stable/indexing.html#indexing-view-versus-copy\n",
      "  self._setitem_with_indexer(indexer, value)\n"
     ]
    }
   ],
   "source": [
    "#训练数据转化\n",
    "train_set=[]\n",
    "chunk=1000000\n",
    "for i in range(1,14):\n",
    "    train_x=feat(train_data[(i-1)*chunk:i*chunk])\n",
    "    train_set.append(train_x)\n",
    "train_set=pd.concat(train_set)\n",
    "train_set['label']=train_data['RSRP']\n",
    "#测试数据转化\n",
    "test_set=feat(test_data)\n",
    "del train_data\n",
    "\n",
    "#按Frequency Band分3类,做成dict\n",
    "def DataDivison(data_set):\n",
    "    groups=data_set.groupby('Frequency Band')\n",
    "    data_sets={}\n",
    "    for key,group in groups:\n",
    "        group=group.drop(['Frequency Band'],axis=1)\n",
    "        data_sets[key]=group\n",
    "    return data_sets\n"
   ]
  },
  {
   "cell_type": "code",
   "execution_count": 5,
   "metadata": {},
   "outputs": [],
   "source": [
    "#分别建模\n",
    "train_sets=DataDivison(train_set)\n",
    "test_sets=DataDivison(test_set)\n",
    "dataSetKey=[2585.0, 2604.8, 2624.6]"
   ]
  },
  {
   "cell_type": "code",
   "execution_count": 8,
   "metadata": {},
   "outputs": [],
   "source": [
    "\n",
    "#trainSet1,ValSet1=train_test_split(train_sets,test_size=0.33, random_state=42)\n",
    "#trainSet2,ValSet2=train_test_split(train_sets,test_size=0.33, random_state=42)\n",
    "#trainSet3,ValSet3=train_test_split(train_sets,test_size=0.33, random_state=42)\n",
    "#gc.collect()"
   ]
  },
  {
   "cell_type": "code",
   "execution_count": 20,
   "metadata": {},
   "outputs": [],
   "source": [
    "#para\n",
    "def display_importances(feature_importance_df_):\n",
    "    cols = feature_importance_df_[[\"Feature\", \"importance\"]].groupby(\"Feature\").mean().sort_values(by=\"importance\", ascending=False)[:40].index\n",
    "    best_features = feature_importance_df_.loc[feature_importance_df_.Feature.isin(cols)]\n",
    "    plt.figure(figsize=(8, 10))\n",
    "    sns.barplot(x=\"importance\", y=\"Feature\", data=best_features.sort_values(by=\"importance\", ascending=False))\n",
    "    plt.title('LightGBM Features (avg over folds)')\n",
    "    plt.tight_layout()\n",
    "    plt.show()\n",
    "    \n",
    "params = {\n",
    "    'learning_rate': 0.08,\n",
    "    'boosting_type': 'gbdt',\n",
    "    'objective': 'regression_l1',\n",
    "    'metric': 'mae',\n",
    "    'feature_fraction': 0.6,\n",
    "    'bagging_fraction': 0.8,\n",
    "    'bagging_freq': 5,\n",
    "    'num_leaves': 100,\n",
    "    'verbose': -1,\n",
    "    'max_depth': -1,\n",
    "    'reg_alpha':2.2,\n",
    "    'reg_lambda':1.4,\n",
    "    'nthread': 8\n",
    "}\n",
    "def lgb_reg(params,train,targets,test):\n",
    "    features=train.columns\n",
    "    folds = KFold(n_splits=5, shuffle=True, random_state=1420)\n",
    "    oof = np.zeros(len(train))\n",
    "    predictions = np.zeros(len(test))\n",
    "    feature_importance_df = pd.DataFrame()\n",
    "    for fold_, (trn_idx, val_idx) in enumerate(folds.split(train.values, targets.values)):\n",
    "        print(\"Fold {}\".format(fold_))\n",
    "        #n=len(trn_idx)\n",
    "        trn_data = lgb.Dataset(train.iloc[trn_idx][features],label=targets.iloc[trn_idx])\n",
    "        val_data = lgb.Dataset(train.iloc[val_idx][features],label=targets.iloc[val_idx])\n",
    "    \n",
    "        num_round = 10000\n",
    "        clf = lgb.train(params, trn_data, num_round, valid_sets = [trn_data, val_data], verbose_eval=1000, early_stopping_rounds = 200)\n",
    "        oof[val_idx] = clf.predict(train.iloc[val_idx][features], num_iteration=clf.best_iteration)\n",
    "        \n",
    "        fold_importance_df = pd.DataFrame()\n",
    "        fold_importance_df[\"Feature\"] = features\n",
    "        fold_importance_df[\"importance\"] = clf.feature_importance()\n",
    "        fold_importance_df[\"fold\"] = fold_ + 1\n",
    "        feature_importance_df = pd.concat([feature_importance_df, fold_importance_df], axis=0)\n",
    "        \n",
    "        predictions += clf.predict(test[features], num_iteration=clf.best_iteration) / folds.n_splits\n",
    "    Score=mean_absolute_error(targets, oof)\n",
    "    print(\"CV score: {:<8.5f}\".format(Score))\n",
    "    return oof,predictions,feature_importance_df"
   ]
  },
  {
   "cell_type": "code",
   "execution_count": 15,
   "metadata": {
    "scrolled": true
   },
   "outputs": [],
   "source": [
    "\n",
    "features=['RS Power', 'Cell Clutter Index', 'Clutter Index',\n",
    "       'd', 'Hb', 'Hue', 'thetaM', 'thetaE', 'delta_Hv', 'theta_uc', 'log_Hb',\n",
    "       'log_Hue', 'log_d', 'dmulHue_log', 'theta_XY_A']\n",
    "\n",
    "#oof,predictions,feature_importance_df=lgb_reg(params,trainSet1[features][:100000],trainSet1['target'][:100000],testSet1[features][100000:120000])"
   ]
  },
  {
   "cell_type": "code",
   "execution_count": 12,
   "metadata": {},
   "outputs": [],
   "source": [
    "#按类别训练并预测\n",
    "result=pd.DataFrame()\n",
    "result['CellIndex']=CellIndex\n",
    "for key in test_sets.keys():\n",
    "    oof,predictions,feature_importance_df=lgb_reg(params,train_sets[key][features],train_set[key]['label'],test_sets[key][features])\n",
    "    result['predict'].loc[test_sets[key].index]=predictions\n",
    "#result.to_csv(path_result+'result.csv')"
   ]
  },
  {
   "cell_type": "code",
   "execution_count": 29,
   "metadata": {},
   "outputs": [
    {
     "data": {
      "text/plain": [
       "<matplotlib.collections.PathCollection at 0x1dd8f94aa58>"
      ]
     },
     "execution_count": 29,
     "metadata": {},
     "output_type": "execute_result"
    },
    {
     "data": {
      "image/png": "[encoded data removed]",
      "text/plain": [
       "<Figure size 432x288 with 1 Axes>"
      ]
     },
     "metadata": {
      "needs_background": "light"
     },
     "output_type": "display_data"
    }
   ],
   "source": [
    "plt.scatter(testSet1['target'][100000:120000],predictions)"
   ]
  },
  {
   "cell_type": "code",
   "execution_count": 30,
   "metadata": {},
   "outputs": [
    {
     "name": "stderr",
     "output_type": "stream",
     "text": [
      "C:\\Users\\lenovo\\Anaconda3\\lib\\site-packages\\scipy\\stats\\stats.py:1713: FutureWarning: Using a non-tuple sequence for multidimensional indexing is deprecated; use `arr[tuple(seq)]` instead of `arr[seq]`. In the future this will be interpreted as an array index, `arr[np.array(seq)]`, which will result either in an error or a different result.\n",
      "  return np.add.reduce(sorted[indexer] * weights, axis=axis) / sumval\n"
     ]
    },
    {
     "data": {
      "image/png": "[encoded data removed]",
      "text/plain": [
       "<Figure size 576x720 with 1 Axes>"
      ]
     },
     "metadata": {
      "needs_background": "light"
     },
     "output_type": "display_data"
    }
   ],
   "source": [
    "display_importances(feature_importance_df)"
   ]
  },
  {
   "cell_type": "code",
   "execution_count": null,
   "metadata": {
    "scrolled": true
   },
   "outputs": [],
   "source": []
  },
  {
   "cell_type": "code",
   "execution_count": null,
   "metadata": {
    "scrolled": true
   },
   "outputs": [],
   "source": []
  },
  {
   "cell_type": "code",
   "execution_count": null,
   "metadata": {},
   "outputs": [],
   "source": []
  },
  {
   "cell_type": "code",
   "execution_count": null,
   "metadata": {
    "scrolled": false
   },
   "outputs": [],
   "source": []
  },
  {
   "cell_type": "code",
   "execution_count": null,
   "metadata": {},
   "outputs": [],
   "source": []
  },
  {
   "cell_type": "code",
   "execution_count": null,
   "metadata": {},
   "outputs": [],
   "source": []
  },
  {
   "cell_type": "code",
   "execution_count": null,
   "metadata": {},
   "outputs": [],
   "source": []
  },
  {
   "cell_type": "code",
   "execution_count": null,
   "metadata": {},
   "outputs": [],
   "source": []
  }
 ],
 "metadata": {
  "kernelspec": {
   "display_name": "Python 3",
   "language": "python",
   "name": "python3"
  },
  "language_info": {
   "codemirror_mode": {
    "name": "ipython",
    "version": 3
   },
   "file_extension": ".py",
   "mimetype": "text/x-python",
   "name": "python",
   "nbconvert_exporter": "python",
   "pygments_lexer": "ipython3",
   "version": "3.7.0"
  }
 },
 "nbformat": 4,
 "nbformat_minor": 2
}
